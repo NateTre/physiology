{
  "nbformat": 4,
  "nbformat_minor": 0,
  "metadata": {
    "colab": {
      "provenance": [],
      "authorship_tag": "ABX9TyMWtr3aO2wxO9K+og9tsIQx",
      "include_colab_link": true
    },
    "kernelspec": {
      "name": "python3",
      "display_name": "Python 3"
    },
    "language_info": {
      "name": "python"
    }
  },
  "cells": [
    {
      "cell_type": "markdown",
      "metadata": {
        "id": "view-in-github",
        "colab_type": "text"
      },
      "source": [
        "<a href=\"https://colab.research.google.com/github/NateTre/physiology/blob/main/Lab14graphcolabcode.ipynb\" target=\"_parent\"><img src=\"https://colab.research.google.com/assets/colab-badge.svg\" alt=\"Open In Colab\"/></a>"
      ]
    },
    {
      "cell_type": "code",
      "source": [
        "# import packages\n",
        "import statistics\n",
        "import pandas as pd\n",
        "import scipy.stats as stats\n",
        "from scipy.stats import sem\n",
        "from statistics import mean, stdev\n",
        "import matplotlib.pyplot as plt\n",
        "import numpy as np\n",
        "#include if using a jupyter notebook, remove if using a .py file\n",
        "%matplotlib inline"
      ],
      "metadata": {
        "id": "9_G0WVezM83L"
      },
      "execution_count": null,
      "outputs": []
    },
    {
      "cell_type": "code",
      "execution_count": null,
      "metadata": {
        "colab": {
          "base_uri": "https://localhost:8080/"
        },
        "id": "KEmm6rHgKLDZ",
        "outputId": "a6d1704a-b29a-44ff-be64-856e97305a6c"
      },
      "outputs": [
        {
          "output_type": "execute_result",
          "data": {
            "text/plain": [
              "([2.7, 3.7, 3.2, 3.45, 3.2, 3.1], [3.3, 4.5, 3.7])"
            ]
          },
          "metadata": {},
          "execution_count": 13
        }
      ],
      "source": [
        "f_vc= [2.7,3.7,3.2,3.45,3.2,3.1]\n",
        "m_vc= [3.3,4.5,3.7]\n",
        "f_vc, m_vc"
      ]
    },
    {
      "cell_type": "code",
      "source": [
        "fvc_mean = mean(f_vc)\n",
        "mvc_mean = mean(m_vc)\n",
        "fvc_mean, mvc_mean\n"
      ],
      "metadata": {
        "colab": {
          "base_uri": "https://localhost:8080/"
        },
        "id": "zUDnIG1ENOju",
        "outputId": "df16d068-66c0-4e4e-a0d8-3530f2de45f1"
      },
      "execution_count": null,
      "outputs": [
        {
          "output_type": "execute_result",
          "data": {
            "text/plain": [
              "(3.225, 3.8333333333333335)"
            ]
          },
          "metadata": {},
          "execution_count": 14
        }
      ]
    },
    {
      "cell_type": "code",
      "source": [
        "fvc_sem = sem(f_vc)\n",
        "mvc_sem = sem(m_vc)\n",
        "fvc_sem, mvc_sem\n"
      ],
      "metadata": {
        "colab": {
          "base_uri": "https://localhost:8080/"
        },
        "id": "ZqRcrKUUOtrF",
        "outputId": "ee03c98c-73e5-4cc5-af06-da23cab50b6c"
      },
      "execution_count": null,
      "outputs": [
        {
          "output_type": "execute_result",
          "data": {
            "text/plain": [
              "(0.13768926368215256, 0.3527668414752788)"
            ]
          },
          "metadata": {},
          "execution_count": 15
        }
      ]
    },
    {
      "cell_type": "code",
      "source": [
        "# build a bar plot\n",
        "plt.bar(['Female VC', 'Male VC'],[fvc_mean, mvc_mean], yerr=[fvc_sem, mvc_sem], capsize=10)\n",
        "plt.xlabel('Biological Sex')\n",
        "plt.ylabel('Vital Capacity(L)')\n",
        "plt.title('Vital Capacity Differences Male vs Female')"
      ],
      "metadata": {
        "colab": {
          "base_uri": "https://localhost:8080/",
          "height": 489
        },
        "id": "Fe9TVCBJPoN0",
        "outputId": "62323b08-f523-4a19-e955-e20bb104e87f"
      },
      "execution_count": null,
      "outputs": [
        {
          "output_type": "execute_result",
          "data": {
            "text/plain": [
              "Text(0.5, 1.0, 'Vital Capacity Differences Male vs Female')"
            ]
          },
          "metadata": {},
          "execution_count": 21
        },
        {
          "output_type": "display_data",
          "data": {
            "text/plain": [
              "<Figure size 640x480 with 1 Axes>"
            ],
            "image/png": "[encoded data removed]"
          },
          "metadata": {}
        }
      ]
    },
    {
      "cell_type": "code",
      "source": [
        "# import packages\n",
        "import statistics\n",
        "import pandas as pd\n",
        "import scipy.stats as stats\n",
        "from scipy.stats import sem\n",
        "from statistics import mean, stdev\n",
        "import matplotlib.pyplot as plt\n",
        "import numpy as np\n",
        "#include if using a jupyter notebook, remove if using a .py file\n",
        "%matplotlib inline"
      ],
      "metadata": {
        "id": "jRID5bXsaV6J"
      },
      "execution_count": 3,
      "outputs": []
    },
    {
      "cell_type": "code",
      "source": [
        "f_fev1= [2.37,3.37,2.6,2.69,3.13,2.44]\n",
        "m_fev1= [3.3,4.86,3.7]\n",
        "f_fev1, m_fev1"
      ],
      "metadata": {
        "colab": {
          "base_uri": "https://localhost:8080/"
        },
        "id": "JCD9nIGYZBK2",
        "outputId": "33e62ef2-6229-482d-87a4-1d0c551b6475"
      },
      "execution_count": 1,
      "outputs": [
        {
          "output_type": "execute_result",
          "data": {
            "text/plain": [
              "([2.37, 3.37, 2.6, 2.69, 3.13, 2.44], [3.3, 4.86, 3.7])"
            ]
          },
          "metadata": {},
          "execution_count": 1
        }
      ]
    },
    {
      "cell_type": "code",
      "source": [
        "ffev1_mean = mean(f_fev1)\n",
        "mfev1_mean = mean(m_fev1)\n",
        "ffev1_mean, mfev1_mean"
      ],
      "metadata": {
        "colab": {
          "base_uri": "https://localhost:8080/"
        },
        "id": "4sh8B0coZtrI",
        "outputId": "aa60771a-44a7-4e00-9526-eca7049457f7"
      },
      "execution_count": 4,
      "outputs": [
        {
          "output_type": "execute_result",
          "data": {
            "text/plain": [
              "(2.7666666666666666, 3.9533333333333336)"
            ]
          },
          "metadata": {},
          "execution_count": 4
        }
      ]
    },
    {
      "cell_type": "code",
      "source": [
        "ffev1_sem = sem(f_fev1)\n",
        "mfev1_sem = sem(m_fev1)\n",
        "ffev1_sem, mfev1_sem"
      ],
      "metadata": {
        "colab": {
          "base_uri": "https://localhost:8080/"
        },
        "id": "LsmDtUABafAf",
        "outputId": "c50bd9c9-c743-4507-feca-e5bd7b258763"
      },
      "execution_count": 5,
      "outputs": [
        {
          "output_type": "execute_result",
          "data": {
            "text/plain": [
              "(0.16265846973882972, 0.4678081278093024)"
            ]
          },
          "metadata": {},
          "execution_count": 5
        }
      ]
    },
    {
      "cell_type": "code",
      "source": [
        "# build a bar plot\n",
        "plt.bar(['Female FEV1','Male FEV1'],[ffev1_mean, mfev1_mean], yerr=[ffev1_sem, mfev1_sem], capsize=10)\n",
        "plt.xlabel('Biological Sex')\n",
        "plt.ylabel('Forced Expiratory Volume')\n",
        "plt.title('Forced Expiratory Volume Differences Male vs Female')"
      ],
      "metadata": {
        "colab": {
          "base_uri": "https://localhost:8080/",
          "height": 489
        },
        "id": "weyqs_2rbWqQ",
        "outputId": "75a23a5d-5db4-433d-f59a-3ee6f8cf8798"
      },
      "execution_count": 6,
      "outputs": [
        {
          "output_type": "execute_result",
          "data": {
            "text/plain": [
              "Text(0.5, 1.0, 'Forced Expiratory Volume Differences Male vs Female')"
            ]
          },
          "metadata": {},
          "execution_count": 6
        },
        {
          "output_type": "display_data",
          "data": {
            "text/plain": [
              "<Figure size 640x480 with 1 Axes>"
            ],
            "image/png": "[encoded data removed]"
          },
          "metadata": {}
        }
      ]
    }
  ]
}